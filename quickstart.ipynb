{
  "cells": [
    {
      "cell_type": "markdown",
      "metadata": {
        "colab_type": "text",
        "id": "view-in-github"
      },
      "source": [
        "<a href=\"https://colab.research.google.com/github/mkielo3/mammalian_brains/blob/main/quickstart.ipynb\" target=\"_parent\"><img src=\"https://colab.research.google.com/assets/colab-badge.svg\" alt=\"Open In Colab\"/></a>"
      ]
    },
    {
      "cell_type": "code",
      "execution_count": null,
      "metadata": {
        "id": "JR3Ptn-SFYRJ"
      },
      "outputs": [],
      "source": [
        "import sys\n",
        "if 'google.colab' in sys.modules:\n",
        "\t%pip install -q numpy pandas scipy scikit-learn matplotlib seaborn pillow ipykernel torch torchvision torchaudio altair datasets numba numbasom==0.0.5 tensorboard pysal vl-convert-python soundfile\n",
        "\n",
        "\t!git clone https://github.com/mkielo3/mammalian_brains.git\n",
        "\t%cd mammalian_brains"
      ]
    },
    {
      "cell_type": "code",
      "execution_count": null,
      "metadata": {
        "id": "e4nm2akwHMas"
      },
      "outputs": [],
      "source": [
        "import torch\n",
        "import pandas as pd\n",
        "\n",
        "from tqdm import tqdm\n",
        "from numbasom.core import lattice_closest_vectors\n",
        "from analysis.som import SOM\n",
        "from utils import save_output_to_pickle\n",
        "from models.olfaction.olfaction import Olfaction\n",
        "from models.vision.vision import Vision\n",
        "from models.audio.audio import Audio\n",
        "from models.touch.touch import Touch\n",
        "from models.memory.memory import Memory\n",
        "from utils import save_som_plot, save_rf_plot\n",
        "\n",
        "from config import Args\n",
        "args = Args()\n",
        "\n",
        "\n",
        "fast = True\n",
        "args.som_size = (5,5) if fast else (25, 25)\n",
        "args.experiment_name = \"main_results_fast\" if fast else \"main_results\"\n",
        "args.fast = fast\n",
        "args.som_epochs = 10000 if fast else 100000\n",
        "modality_list = [Olfaction(args), Vision(args), Audio(args), Touch(args), Memory(args)]"
      ]
    },
    {
      "cell_type": "code",
      "execution_count": null,
      "metadata": {},
      "outputs": [],
      "source": [
        "for modality in modality_list:\n",
        "\tprint (\"\\n\", modality.modality, pd.Timestamp.now())\n",
        "\n",
        "\t# 1. Train/Download Model\n",
        "\tmodality.setup_model()\n",
        "\tmodality.setup_som()\n",
        "\n",
        "\t# 2. Get activations for each patch\n",
        "\tpatches = modality.get_patches()\n",
        "\tactivation_list = []\n",
        "\tfor p in tqdm(patches):\n",
        "\t\tp, static = modality.generate_static(p)\n",
        "\t\tactivation = modality.calculate_activations(static)\n",
        "\t\tactivation_list.append([p, activation])\n",
        "\n",
        "\t# 3. Fit SOM\n",
        "\tx_mat = torch.stack([x[1] for x in activation_list]).numpy()\n",
        "\tsom = modality.initialize_som(SOM)\n",
        "\tlattice = som.train(x_mat, num_iterations=args.som_epochs, initialize=args.som_init, normalize=False, start_lrate=args.som_lr)\n",
        "\t\n",
        "\t# 4. Get coordinates for each BMU\n",
        "\tcoordinate_list = [x[0] for x in activation_list]\n",
        "\tclosest = lattice_closest_vectors(x_mat, lattice, additional_list=coordinate_list)\n",
        "\n",
        "\t# 5. Save\n",
        "\toutput = {\"closest\": closest, \n",
        "\t\t\t\"coord_map\": coordinate_list,\n",
        "\t\t\t\"x_range\": (0, max([x[0][0] for x in activation_list])),\n",
        "\t\t\t\"y_range\": (0, max([x[0][1] for x in activation_list])),\n",
        "\t\t\t\"lattice\": lattice,\n",
        "\t\t\t\"som\": None,\n",
        "\t\t\t\"samples\": modality.sample_data,\n",
        "\t\t\t\"modality\": modality.modality,\n",
        "\t\t\t\"args\": args,\n",
        "\t\t\t\"activations\": activation_list}\n",
        "\n",
        "\tsave_output_to_pickle(output, args.experiment_name)\n",
        "\n"
      ]
    },
    {
      "cell_type": "code",
      "execution_count": null,
      "metadata": {},
      "outputs": [],
      "source": [
        "save_som_plot(args.experiment_name, modality_list, args)"
      ]
    },
    {
      "cell_type": "code",
      "execution_count": null,
      "metadata": {},
      "outputs": [],
      "source": [
        "save_rf_plot(args.experiment_name, modality_list)"
      ]
    },
    {
      "cell_type": "code",
      "execution_count": null,
      "metadata": {},
      "outputs": [],
      "source": []
    }
  ],
  "metadata": {
    "colab": {
      "include_colab_link": true,
      "provenance": []
    },
    "kernelspec": {
      "display_name": "babylm",
      "language": "python",
      "name": "python3"
    },
    "language_info": {
      "codemirror_mode": {
        "name": "ipython",
        "version": 3
      },
      "file_extension": ".py",
      "mimetype": "text/x-python",
      "name": "python",
      "nbconvert_exporter": "python",
      "pygments_lexer": "ipython3",
      "version": "3.10.14"
    }
  },
  "nbformat": 4,
  "nbformat_minor": 0
}
