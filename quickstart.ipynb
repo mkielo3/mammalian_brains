{
  "cells": [
    {
      "cell_type": "code",
      "execution_count": 1,
      "metadata": {
        "id": "JR3Ptn-SFYRJ",
        "outputId": "b95f3fce-6b65-4e88-c1bd-8dc49c3a9a19",
        "colab": {
          "base_uri": "https://localhost:8080/",
          "height": 393
        }
      },
      "outputs": [
        {
          "output_type": "error",
          "ename": "ModuleNotFoundError",
          "evalue": "No module named 'numbasom'",
          "traceback": [
            "\u001b[0;31m---------------------------------------------------------------------------\u001b[0m",
            "\u001b[0;31mModuleNotFoundError\u001b[0m                       Traceback (most recent call last)",
            "\u001b[0;32m<ipython-input-1-a4a46e94ee84>\u001b[0m in \u001b[0;36m<cell line: 0>\u001b[0;34m()\u001b[0m\n\u001b[1;32m      1\u001b[0m \u001b[0;32mimport\u001b[0m \u001b[0mtorch\u001b[0m\u001b[0;34m\u001b[0m\u001b[0;34m\u001b[0m\u001b[0m\n\u001b[1;32m      2\u001b[0m \u001b[0;32mfrom\u001b[0m \u001b[0mtqdm\u001b[0m \u001b[0;32mimport\u001b[0m \u001b[0mtqdm\u001b[0m\u001b[0;34m\u001b[0m\u001b[0;34m\u001b[0m\u001b[0m\n\u001b[0;32m----> 3\u001b[0;31m \u001b[0;32mfrom\u001b[0m \u001b[0mnumbasom\u001b[0m\u001b[0;34m.\u001b[0m\u001b[0mcore\u001b[0m \u001b[0;32mimport\u001b[0m \u001b[0mlattice_closest_vectors\u001b[0m\u001b[0;34m\u001b[0m\u001b[0;34m\u001b[0m\u001b[0m\n\u001b[0m\u001b[1;32m      4\u001b[0m \u001b[0;32mfrom\u001b[0m \u001b[0manalysis\u001b[0m\u001b[0;34m.\u001b[0m\u001b[0msom\u001b[0m \u001b[0;32mimport\u001b[0m \u001b[0mSOM\u001b[0m\u001b[0;34m\u001b[0m\u001b[0;34m\u001b[0m\u001b[0m\n\u001b[1;32m      5\u001b[0m \u001b[0;32mfrom\u001b[0m \u001b[0mutils\u001b[0m \u001b[0;32mimport\u001b[0m \u001b[0msave_output_to_pickle\u001b[0m\u001b[0;34m\u001b[0m\u001b[0;34m\u001b[0m\u001b[0m\n",
            "\u001b[0;31mModuleNotFoundError\u001b[0m: No module named 'numbasom'",
            "",
            "\u001b[0;31m---------------------------------------------------------------------------\u001b[0;32m\nNOTE: If your import is failing due to a missing package, you can\nmanually install dependencies using either !pip or !apt.\n\nTo view examples of installing some common dependencies, click the\n\"Open Examples\" button below.\n\u001b[0;31m---------------------------------------------------------------------------\u001b[0m\n"
          ],
          "errorDetails": {
            "actions": [
              {
                "action": "open_url",
                "actionText": "Open Examples",
                "url": "/notebooks/snippets/importing_libraries.ipynb"
              }
            ]
          }
        }
      ],
      "source": []
    },
    {
      "cell_type": "code",
      "source": [
        "import torch\n",
        "from tqdm import tqdm\n",
        "from numbasom.core import lattice_closest_vectors\n",
        "from analysis.som import SOM\n",
        "from utils import save_output_to_pickle\n",
        "\n",
        "from models.olfaction.olfaction import Olfaction\n",
        "from models.vision.vision import Vision\n",
        "from models.audio.audio import Audio\n",
        "from models.touch.touch import Touch\n",
        "from models.memory.memory import Memory\n",
        "\n",
        "from config import Args"
      ],
      "metadata": {
        "id": "ghE49I9vFeic"
      },
      "execution_count": null,
      "outputs": []
    },
    {
      "cell_type": "code",
      "execution_count": null,
      "metadata": {
        "id": "yAUFSqOlFYRL"
      },
      "outputs": [],
      "source": [
        "for lr in [0.01, 0.1, 0.2]:\n",
        "    args = Args()\n",
        "    args.setup_models = False # Set to True if first ever time running\n",
        "    args.experiment_name = \"main_results_lr_sweep\"\n",
        "    args.som_lr = lr\n",
        "\n",
        "    for modality in ([Olfaction(args), Vision(args), Audio(args), Touch(args), Memory(args)]):\n",
        "        print (\"\\n\", modality.modality, pd.Timestamp.now())\n",
        "\n",
        "        # 1. Train/Download Model\n",
        "        modality.setup_model()\n",
        "        modality.setup_som()\n",
        "\n",
        "        # 2. Get activations for each patch\n",
        "        patches = modality.get_patches()\n",
        "        activation_list = []\n",
        "        for p in tqdm(patches):\n",
        "            p, static = modality.generate_static(p)\n",
        "            activation = modality.calculate_activations(static)\n",
        "            activation_list.append([p, activation])\n",
        "\n",
        "        # 3. Fit SOM\n",
        "        x_mat = torch.stack([x[1] for x in activation_list]).numpy()\n",
        "        som = modality.initialize_som(SOM)\n",
        "        lattice = som.train(x_mat, num_iterations=args.som_epochs, initialize=args.som_init, normalize=False, start_lrate=args.som_lr)\n",
        "\n",
        "        # 4. Get coordinates for each BMU\n",
        "        coordinate_list = [x[0] for x in activation_list]\n",
        "        closest = lattice_closest_vectors(x_mat, lattice, additional_list=coordinate_list)\n",
        "\n",
        "        # 5. Save\n",
        "        output = {\"closest\": closest,\n",
        "                \"coord_map\": coordinate_list,\n",
        "                \"x_range\": (0, max([x[0][0] for x in activation_list])),\n",
        "                \"y_range\": (0, max([x[0][1] for x in activation_list])),\n",
        "                \"lattice\": lattice,\n",
        "                \"som\": None,\n",
        "                \"samples\": modality.sample_data,\n",
        "                \"modality\": modality.modality,\n",
        "                \"args\": args,\n",
        "                \"activations\": activation_list\n",
        "                }\n",
        "\n",
        "        save_output_to_pickle(output, args.experiment_name)"
      ]
    },
    {
      "cell_type": "code",
      "execution_count": null,
      "metadata": {
        "id": "376YdLalFYRL"
      },
      "outputs": [],
      "source": [
        "import torch\n",
        "\n",
        "imgs = torch.load(f\"models/vision/saved_data/processed_images.pt\")"
      ]
    },
    {
      "cell_type": "code",
      "execution_count": null,
      "metadata": {
        "id": "UCq7POTeFYRL",
        "outputId": "7673c78a-0ddb-4363-fa5c-abb3eee5e40d"
      },
      "outputs": [
        {
          "data": {
            "text/plain": [
              "torch.Size([100, 3, 224, 224])"
            ]
          },
          "execution_count": 5,
          "metadata": {},
          "output_type": "execute_result"
        }
      ],
      "source": []
    },
    {
      "cell_type": "code",
      "execution_count": null,
      "metadata": {
        "id": "HoSRrfFTFYRM"
      },
      "outputs": [],
      "source": [
        "imgs_subset = imgs[:50].clone().contiguous()\n",
        "torch.save(imgs_subset, \"models/vision/saved_data/processed_images.pt\")"
      ]
    },
    {
      "cell_type": "code",
      "execution_count": null,
      "metadata": {
        "id": "Ongww_xAFYRM",
        "outputId": "f37ad813-dcf8-48ac-a921-d62c34e1a34d"
      },
      "outputs": [
        {
          "data": {
            "text/plain": [
              "torch.Size([50, 3, 224, 224])"
            ]
          },
          "execution_count": 7,
          "metadata": {},
          "output_type": "execute_result"
        }
      ],
      "source": [
        "\n",
        "imgs_subset.shape"
      ]
    },
    {
      "cell_type": "code",
      "execution_count": null,
      "metadata": {
        "id": "TOX-3WWbFYRM"
      },
      "outputs": [],
      "source": [
        "data = torch.load(f\"models/olfaction/saved_data/val_dataset.pt\", map_location='cpu')"
      ]
    },
    {
      "cell_type": "code",
      "execution_count": null,
      "metadata": {
        "id": "lFgtWcxTFYRM"
      },
      "outputs": [],
      "source": [
        "imgs_subset = data.clone().contiguous()\n",
        "torch.save(imgs_subset, \"models/olfaction/saved_data/val_dataset.pt\")\n"
      ]
    },
    {
      "cell_type": "code",
      "execution_count": null,
      "metadata": {
        "id": "15Jr2K6OFYRM",
        "outputId": "6f3b5bff-9316-4454-ed6b-964ee01301f2"
      },
      "outputs": [
        {
          "name": "stdout",
          "output_type": "stream",
          "text": [
            "total 3280\n",
            "-rw-r--r--  1 matthewkielo  staff     2745 Feb  7 00:53 README.md\n",
            "drwxr-xr-x  6 matthewkielo  staff      192 Feb  7 00:53 \u001b[34manalysis\u001b[m\u001b[m\n",
            "-rw-r--r--  1 matthewkielo  staff     2110 Feb  7 00:57 config.py\n",
            "-rw-r--r--  1 matthewkielo  staff  1639511 Feb  7 01:02 foobar.pt\n",
            "-rw-r--r--  1 matthewkielo  staff     2157 Feb  7 00:53 main.py\n",
            "drwxr-xr-x  9 matthewkielo  staff      288 Feb  7 00:53 \u001b[34mmodels\u001b[m\u001b[m\n",
            "-rw-r--r--  1 matthewkielo  staff     4260 Feb  7 00:57 quickstart.ipynb\n",
            "-rw-r--r--  1 matthewkielo  staff     7420 Feb  7 00:53 requirements.txt\n",
            "-rw-r--r--  1 matthewkielo  staff      689 Feb  7 00:53 setup.py\n",
            "-rw-r--r--  1 matthewkielo  staff      507 Feb  7 00:53 utils.py\n"
          ]
        }
      ],
      "source": [
        "!ls -l"
      ]
    },
    {
      "cell_type": "code",
      "execution_count": null,
      "metadata": {
        "id": "A4wSCvNtFYRM"
      },
      "outputs": [],
      "source": [
        "1639511\n",
        "163841200"
      ]
    }
  ],
  "metadata": {
    "kernelspec": {
      "display_name": "babylm",
      "language": "python",
      "name": "python3"
    },
    "language_info": {
      "codemirror_mode": {
        "name": "ipython",
        "version": 3
      },
      "file_extension": ".py",
      "mimetype": "text/x-python",
      "name": "python",
      "nbconvert_exporter": "python",
      "pygments_lexer": "ipython3",
      "version": "3.10.14"
    },
    "colab": {
      "provenance": []
    }
  },
  "nbformat": 4,
  "nbformat_minor": 0
}